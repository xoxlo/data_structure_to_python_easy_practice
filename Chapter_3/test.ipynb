{
 "cells": [
  {
   "cell_type": "code",
   "execution_count": 1,
   "metadata": {},
   "outputs": [],
   "source": [
    "class ArraySet:\n",
    "    def __init__(self,capacity=100):\n",
    "        self.capacity = capacity\n",
    "        self.array = [None]*capacity\n",
    "        self.size = 0\n",
    "        \n",
    "    def isEmpty(self):\n",
    "        return self.size == 0\n",
    "    \n",
    "    def isFull(self):\n",
    "        return self.size == self.capacity\n",
    "    \n",
    "    def __str__(self):\n",
    "        return str(self.array[0:self.size])\n",
    "        \n",
    "    def contains(self, e): # 선택한 집합에 원소 e가 포함되어있는지 판단\n",
    "        for i in range(self.size):\n",
    "            for i in range(self.size):\n",
    "                if self.array[i] == e:\n",
    "                    return True # 원소 e가 있으면 True 반환\n",
    "            return False # 원소 e가 없으면 False 반환\n",
    "\n",
    "    def insert(self, e): # 선택한 집합에 원소 e를 삽입\n",
    "        if not self.contains(e) and not self.isFull(): # 집한 안에 똑같은 원소 e가 없어야 하고 포화상태가 아니어야함.\n",
    "            self.array[self.size] = e # 원소 e 삽입\n",
    "            self.size += 1 # 원소 e를 삽입했으니 배열 size +1\n",
    "            \n",
    "    def delete(self, e): # 선택한 집합에 원소 e를 삭제\n",
    "        for i in range(self.size): # 배열 전체 범위를 반복\n",
    "            if self.array[i] == e: # 원소 e와 같은 값이 i 위치에 있다면\n",
    "                self.array[i] = self.array[self.size-1] # 맨 뒤 원소를 삭제할 위치에 복사하고\n",
    "                self.size -= 1\n",
    "                return\n",
    "            \n",
    "    def union(self,setB):\n",
    "        setC = ArraySet()\n",
    "        for i in range(self.size):\n",
    "            setC.insert(self.array[i])\n",
    "        for i in range(setB.size):\n",
    "            if not setC.contains(setB.array[i]):\n",
    "                setC.insert(setB.array[i])\n",
    "        return setC\n",
    "    \n",
    "    def intersect(self, setB):\n",
    "        setC = ArraySet()\n",
    "        for i in range(self.size):\n",
    "            if setB.contains(self.array[i]):\n",
    "                setC.inset(self.array[i])\n",
    "        return setC\n",
    "    \n",
    "    def difference(self, setB):\n",
    "        setC = ArraySet()\n",
    "        for i in range(self.size):\n",
    "            if not setB.contains(self.array[i]):\n",
    "                setC.insert(self.array[i])\n",
    "        return setC"
   ]
  },
  {
   "cell_type": "code",
   "execution_count": 2,
   "metadata": {},
   "outputs": [
    {
     "name": "stdout",
     "output_type": "stream",
     "text": [
      "['휴대폰', '시계', '손수건']\n"
     ]
    }
   ],
   "source": [
    "SetA = ArraySet()\n",
    "SetA.insert('휴대폰')\n",
    "SetA.insert('지갑')\n",
    "SetA.insert('손수건')\n",
    "SetA.insert('시계')\n",
    "SetA.delete('지갑')\n",
    "print(SetA)"
   ]
  },
  {
   "cell_type": "code",
   "execution_count": 3,
   "metadata": {},
   "outputs": [],
   "source": [
    "class ArrayList:\n",
    "    # 리스트의 데이터 -> 생성자에서 정의 및 초기화\n",
    "    def __init__(self,capacity=100):\n",
    "        self.capacity = capacity\n",
    "        self.array = [None]*capacity\n",
    "        self.size = 0\n",
    "        \n",
    "    # 리스트의 연산 -> 클래스의 메소드\n",
    "    def isEmpty(self):\n",
    "        return self.size == 0\n",
    "    \n",
    "    def isFull(self):\n",
    "        return self.size == self.capacity\n",
    "    \n",
    "    def getEntry(self, pos):\n",
    "        if 0 <= pos < self.size:\n",
    "            return self.array[pos]\n",
    "        else: return None\n",
    "    \n",
    "    def insert(self, pos, e):\n",
    "        if not self.isFull() and 0<=pos<=self.size:\n",
    "            for i in range(self.size,pos,-1): # pos 이후의 모든 항목을 뒤로 한 칸씩 이동\n",
    "                self.array[i] = self.array[i-1]\n",
    "            self.array[pos] = e # pos 위치에 e(새로운 항목)를 삽입\n",
    "            self.size += 1 # 항목을 추가시켰으니 size +1\n",
    "        else: pass\n",
    "    \n",
    "    def delete(self, pos):\n",
    "        if not self.isEmpty() and 0<=pos<=self.size:\n",
    "            e = self.array[pos] # 삭제할 항목을 복사\n",
    "            for i in range(pos, self.size-1):\n",
    "                self.array[i] = self.array[i+1] # pos 이후의 항목들을 앞으로 한 칸씩 이동\n",
    "            self.size -= 1 # 항목을 삭제했으니 size -1\n",
    "            return e # 복사해둔 항목 반환\n",
    "        else: pass\n",
    "        \n",
    "    def replace(self, pos, e):\n",
    "        if not self.isEmpty() and 0<=pos<=self.size:\n",
    "            self.array[pos] = e # pos 위치에 새로운 e 항목을 대체 \n",
    "        else: pass\n",
    "        \n",
    "    def count(self, e):\n",
    "        cnt = 0\n",
    "        for i in range(0, self.size):\n",
    "            if self.array[i] == e:\n",
    "                cnt+=1\n",
    "        return cnt\n",
    "                \n",
    "    def __str__(self):\n",
    "        return str(self.array[0:self.size])  # string으로 Array 출력\n",
    "    \n",
    "    def findMax(self):\n",
    "        max = self.array[0]\n",
    "        for i in range(0,self.size-1):\n",
    "            if max < self.array[i]:\n",
    "                max = self.array[i]\n",
    "            elif self.isEmpty():\n",
    "                return -1\n",
    "        return max\n",
    "    \n"
   ]
  },
  {
   "cell_type": "code",
   "execution_count": 11,
   "metadata": {},
   "outputs": [
    {
     "ename": "SyntaxError",
     "evalue": "invalid syntax (747467706.py, line 1)",
     "output_type": "error",
     "traceback": [
      "\u001b[0;36m  File \u001b[0;32m\"/var/folders/t_/vttvk75s7mq8pb4zrw21_7cm0000gn/T/ipykernel_80698/747467706.py\"\u001b[0;36m, line \u001b[0;32m1\u001b[0m\n\u001b[0;31m    from 3.11 import ArrayList\u001b[0m\n\u001b[0m         ^\u001b[0m\n\u001b[0;31mSyntaxError\u001b[0m\u001b[0;31m:\u001b[0m invalid syntax\n"
     ]
    }
   ],
   "source": [
    "from 3_11 import ArrayList\n",
    "L = ArrayList(50)\n",
    "\n",
    "print(\"최초 \",L)\n",
    "L.insert(0,100)\n",
    "L.insert(0,200)\n",
    "L.insert(1,300)\n",
    "L.insert(L.size,400)\n",
    "L.insert(2,500)\n",
    "print(\"삽입 x5\",L)\n",
    "L.delete(2)\n",
    "print(\"삭제(2)\",L)\n",
    "L.delete(L.size-1)\n",
    "print(\"삭제(3)\",L)\n",
    "L.delete(0)\n",
    "print(\"삭제(0)\",L)\n",
    "L.replace(1, 200)\n",
    "print(\"대체(1)\",L)\n",
    "L.insert(0,300)\n",
    "print(L)\n",
    "L.insert(1,100)\n",
    "print(L)\n",
    "L.insert(4,400)\n",
    "print(L)\n",
    "L.count(300)\n",
    "L.findMax()"
   ]
  },
  {
   "cell_type": "code",
   "execution_count": 6,
   "metadata": {},
   "outputs": [
    {
     "ename": "AttributeError",
     "evalue": "'ArrayList' object has no attribute 'findMax'",
     "output_type": "error",
     "traceback": [
      "\u001b[0;31m---------------------------------------------------------------------------\u001b[0m",
      "\u001b[0;31mAttributeError\u001b[0m                            Traceback (most recent call last)",
      "\u001b[0;32m/var/folders/t_/vttvk75s7mq8pb4zrw21_7cm0000gn/T/ipykernel_80698/2428804867.py\u001b[0m in \u001b[0;36m<cell line: 0>\u001b[0;34m()\u001b[0m\n\u001b[0;32m----> 1\u001b[0;31m \u001b[0mL\u001b[0m\u001b[0;34m.\u001b[0m\u001b[0mfindMax\u001b[0m\u001b[0;34m(\u001b[0m\u001b[0;34m)\u001b[0m\u001b[0;34m\u001b[0m\u001b[0;34m\u001b[0m\u001b[0m\n\u001b[0m",
      "\u001b[0;31mAttributeError\u001b[0m: 'ArrayList' object has no attribute 'findMax'"
     ]
    }
   ],
   "source": [
    "L.findMax()\n"
   ]
  }
 ],
 "metadata": {
  "kernelspec": {
   "display_name": "base",
   "language": "python",
   "name": "python3"
  },
  "language_info": {
   "codemirror_mode": {
    "name": "ipython",
    "version": 3
   },
   "file_extension": ".py",
   "mimetype": "text/x-python",
   "name": "python",
   "nbconvert_exporter": "python",
   "pygments_lexer": "ipython3",
   "version": "3.11.3"
  },
  "orig_nbformat": 4
 },
 "nbformat": 4,
 "nbformat_minor": 2
}
