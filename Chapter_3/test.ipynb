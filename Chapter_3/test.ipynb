{
 "cells": [
  {
   "cell_type": "code",
   "execution_count": 77,
   "metadata": {},
   "outputs": [],
   "source": [
    "class ArraySet:\n",
    "    def __init__(self,capacity=100):\n",
    "        self.capacity = capacity\n",
    "        self.array = [None]*capacity\n",
    "        self.size = 0\n",
    "        \n",
    "    def isEmpty(self):\n",
    "        return self.size == 0\n",
    "    \n",
    "    def isFull(self):\n",
    "        return self.size == self.capacity\n",
    "    \n",
    "    def __str__(self):\n",
    "        return str(self.array[0:self.size])\n",
    "        \n",
    "    def contains(self, e): # 선택한 집합에 원소 e가 포함되어있는지 판단\n",
    "        for i in range(self.size):\n",
    "            if self.array[i] == e:\n",
    "                return True # 원소 e가 있으면 True 반환\n",
    "        return False # 원소 e가 없으면 False 반환\n",
    "\n",
    "    def insert(self, e): # 선택한 집합에 원소 e를 삽입\n",
    "        if not self.contains(e) and not self.isFull(): # 집한 안에 똑같은 원소 e가 없어야 하고 포화상태가 아니어야함.\n",
    "            self.array[self.size] = e # 원소 e 삽입\n",
    "            self.size += 1 # 원소 e를 삽입했으니 배열 size +1\n",
    "            \n",
    "    def delete(self, e): # 선택한 집합에 원소 e를 삭제\n",
    "        for i in range(self.size): # 배열 전체 범위를 반복\n",
    "            if self.array[i] == e: # 원소 e와 같은 값이 i 위치에 있다면\n",
    "                self.array[i] = self.array[self.size-1] # 맨 뒤 원소를 삭제할 위치에 복사하고 원소 e를 삭제\n",
    "                self.size -= 1 # 원소 e 하나를 삭제 했으니 size -1\n",
    "                return\n",
    "    # 합집합\n",
    "    def union(self,setB): # 처음 self가 setA라고 생각하면 된다.\n",
    "        setC = ArraySet() # 집합A와 집합B의 union한 원소들을 저장할 공간\n",
    "        for i in range(self.size):\n",
    "            setC.insert(self.array[i]) # 집합A의 원소들을 임의의 집합C에 전체 삽입\n",
    "        for i in range(setB.size): # 집합B 원소들 만큼 반복\n",
    "            if not setC.contains(setB.array[i]): # 집합B 각 원소들이 집합C 안의 원소가 포함 되어있지 않을때\n",
    "                setC.insert(setB.array[i]) # 집합C에 원소를 추가\n",
    "        return setC # 집합C 반환 - 합집합\n",
    "    \n",
    "    # 교집합\n",
    "    def intersect(self, setB):\n",
    "        setC = ArraySet()\n",
    "        for i in range(self.size):\n",
    "            if setB.contains(self.array[i]): # 집합A의 각 원소들이 집합B에 포함이 되어있다면\n",
    "                setC.insert(self.array[i]) # 임의의 집합C에다가 원소 삽입\n",
    "        return setC # 집합C 반환 - 교집합\n",
    "    \n",
    "    # 차집합\n",
    "    def difference(self, setB):\n",
    "        setC = ArraySet()\n",
    "        for i in range(self.size):\n",
    "            if not setB.contains(self.array[i]): # 집합A의 각 원소들이 집합B에 포함이 안되어있다면\n",
    "                setC.insert(self.array[i]) # 임의의 집합C에다가 원소 삽입\n",
    "        return setC # 집합C 반환 - 차집합\n",
    "    \n",
    "    \n",
    "    # 두 집합이 같은 집합인지 검사\n",
    "    def equals(self, setB):\n",
    "        setC = ArraySet()\n",
    "        for i in range(self.size):\n",
    "            if not setB.contains(self.array[i]): # 집합A와 집합B의 차집합한 결과\n",
    "                setC.insert(self.array[i]) # 집합C에다가 저장\n",
    "                \n",
    "        if setC.isEmpty(): # 만약 집합C에 공백일 시\n",
    "            return True # 두 집합은 같은 집합\n",
    "        else:\n",
    "            return False # 다를 시 두 집합은 다른 집합\n",
    "        \n",
    "    def __eq__(self, setB):\n",
    "        if self.array == setB.array:\n",
    "            return True\n",
    "        else:\n",
    "            return False\n",
    "        \n",
    "    def merge(self, setB):\n",
    "        setC = ArraySet()\n",
    "        i = 0  # 집합 A의 인덱스\n",
    "        j = 0  # 집합 B의 인덱스\n",
    "\n",
    "        while i < self.size and j < setB.size: # 집합A, 집합B의 원소 만큼 반복\n",
    "            if self.array[i] < setB.array[j]: # 집합B가 집합A보다 크면\n",
    "                setC.insert(self.array[i]) # 집합C에다가 집합A의 원소를 저장\n",
    "                i += 1\n",
    "            else:\n",
    "                setC.insert(setB.array[j]) # 집합B가 집합A보다 작으면 집합B의 원소를 저장\n",
    "                j += 1\n",
    "        # 위 반복은 오름차순으로 정렬해주는 것.\n",
    "    \n",
    "        while i < self.size: # 남은 원소를 추가\n",
    "            setC.insert(self.array[i])\n",
    "            i += 1\n",
    "\n",
    "        while j < setB.size: # 남은 원소를 추가\n",
    "            setC.insert(setB.array[j])\n",
    "            j += 1\n",
    "            \n",
    "        return setC    \n"
   ]
  },
  {
   "cell_type": "code",
   "execution_count": 78,
   "metadata": {},
   "outputs": [
    {
     "name": "stdout",
     "output_type": "stream",
     "text": [
      "[1, 3, 5, 6, 7]\n"
     ]
    }
   ],
   "source": [
    "A = ArraySet()\n",
    "A.insert(1)\n",
    "A.insert(3)\n",
    "A.insert(3)\n",
    "A.insert(5)\n",
    "B = ArraySet()\n",
    "B.insert(3)\n",
    "B.insert(5)\n",
    "B.insert(6)\n",
    "B.insert(7)\n",
    "print(A.merge(B))"
   ]
  },
  {
   "cell_type": "code",
   "execution_count": 62,
   "metadata": {},
   "outputs": [
    {
     "name": "stdout",
     "output_type": "stream",
     "text": [
      "[1, 2, 3, 4, 3, 5, 7, 8]\n"
     ]
    }
   ],
   "source": [
    "def merge(self, setB):\n",
    "    setC = []\n",
    "    i = 0  # 집합 A의 인덱스\n",
    "    j = 0  # 집합 B의 인덱스\n",
    "\n",
    "    while i <  len(self) and j < len(setB): # 집합A, 집합B의 원소 만큼 반복\n",
    "        if self[i] < setB[j]: # 집합B가 집합A보다 크면\n",
    "            setC.append(self[i]) # 집합C에다가 집합A의 원소를 저장\n",
    "            i += 1\n",
    "        else:\n",
    "            setC.append(setB[j]) # 집합B가 집합A보다 작으면 집합B의 원소를 저장\n",
    "            j += 1\n",
    "            \n",
    "    # 위 반복은 오름차순으로 정렬해주는 것.\n",
    "    \n",
    "    while i < len(self):\n",
    "        setC.append(self[i])\n",
    "        i += 1\n",
    "\n",
    "    while j < len(setB):\n",
    "        setC.append(setB[j])\n",
    "        j += 1\n",
    "\n",
    "    return setC\n",
    "\n",
    "A = [1, 3, 5, 7]\n",
    "B = [2, 4, 3, 8]\n",
    "\n",
    "# 두 리스트를 병합하고 정렬된 리스트 C를 얻습니다.\n",
    "C = merge(A, B)\n",
    "\n",
    "print(C)"
   ]
  },
  {
   "cell_type": "code",
   "execution_count": 64,
   "metadata": {},
   "outputs": [
    {
     "name": "stdout",
     "output_type": "stream",
     "text": [
      "[1, 2, 3, 3, 4, 5, 7, 8]\n"
     ]
    }
   ],
   "source": [
    "def merge_sorted_lists(A, B):\n",
    "    merged_list = []\n",
    "    i, j = 0, 0\n",
    "\n",
    "    while i < len(A) and j < len(B):\n",
    "        if A[i] <= B[j]:\n",
    "            merged_list.append(A[i])\n",
    "            i += 1\n",
    "        else:\n",
    "            merged_list.append(B[j])\n",
    "            j += 1\n",
    "\n",
    "    # 남은 요소를 추가\n",
    "    while i < len(A):\n",
    "        merged_list.append(A[i])\n",
    "        i += 1\n",
    "\n",
    "    while j < len(B):\n",
    "        merged_list.append(B[j])\n",
    "        j += 1\n",
    "\n",
    "    return merged_list\n",
    "\n",
    "# 예제 리스트 A와 B\n",
    "A = [1, 3, 5, 7]\n",
    "B = [2, 3, 4, 8]\n",
    "\n",
    "# 두 리스트를 병합하고 중복된 값을 유지한 정렬된 리스트 C를 얻습니다.\n",
    "C = merge_sorted_lists(A, B)\n",
    "print(C)\n"
   ]
  },
  {
   "cell_type": "code",
   "execution_count": 65,
   "metadata": {},
   "outputs": [],
   "source": [
    "def merge(self, setB):\n",
    "    setC = []\n",
    "    i = 0  # 집합 A의 인덱스\n",
    "    j = 0  # 집합 B의 인덱스\n",
    "\n",
    "    while i <  len(self) and j < len(setB): # 집합A, 집합B의 원소 만큼 반복\n",
    "        if self[i] < setB[j]: # 집합B가 집합A보다 크면\n",
    "            setC.append(self[i]) # 집합C에다가 집합A의 원소를 저장\n",
    "            i += 1\n",
    "        else:\n",
    "            setC.append(setB[j]) # 집합B가 집합A보다 작으면 집합B의 원소를 저장\n",
    "            j += 1\n",
    "            \n",
    "    # 위 반복은 오름차순으로 정렬해주는 것.\n",
    "    \n",
    "    setC.extend(self[i:])  # 남은 원소를 추가\n",
    "    setC.extend(setB[j:])\n",
    "\n",
    "    return setC"
   ]
  },
  {
   "cell_type": "code",
   "execution_count": 81,
   "metadata": {},
   "outputs": [
    {
     "name": "stdout",
     "output_type": "stream",
     "text": [
      "[1, 2, 3, 3, 5, 5, 7]\n"
     ]
    }
   ],
   "source": [
    "A = [1, 3, 5]\n",
    "B = [2, 3, 5, 7]\n",
    "C = A + B\n",
    "C.sort()\n",
    "print(C)"
   ]
  },
  {
   "cell_type": "code",
   "execution_count": 83,
   "metadata": {},
   "outputs": [
    {
     "name": "stdout",
     "output_type": "stream",
     "text": [
      "[1, 2, 3, 3, 3, 4, 7, 7, 7, 8, 9]\n"
     ]
    }
   ],
   "source": [
    "A = [1, 3, 3, 4, 7]\n",
    "B = [2, 3, 7, 7, 8, 9]\n",
    "C = A + B\n",
    "C.sort()\n",
    "print(C)"
   ]
  },
  {
   "cell_type": "code",
   "execution_count": 11,
   "metadata": {},
   "outputs": [
    {
     "name": "stdout",
     "output_type": "stream",
     "text": [
      "[13, 242, 422, 1, 245]\n",
      "422\n"
     ]
    }
   ],
   "source": [
    "class ArrayList:\n",
    "    # 리스트의 데이터 -> 생성자에서 정의 및 초기화\n",
    "    def __init__(self,capacity=100):\n",
    "        self.capacity = capacity\n",
    "        self.array = [None]*capacity\n",
    "        self.size = 0\n",
    "        \n",
    "    # 리스트의 연산 -> 클래스의 메소드\n",
    "    def isEmpty(self):\n",
    "        return self.size == 0\n",
    "    \n",
    "    def isFull(self):\n",
    "        return self.size == self.capacity\n",
    "    \n",
    "    def getEntry(self, pos):\n",
    "        if 0 <= pos < self.size:\n",
    "            return self.array[pos]\n",
    "        else: return None\n",
    "    \n",
    "    def insert(self, pos, e):\n",
    "        if not self.isFull() and 0<=pos<=self.size:\n",
    "            for i in range(self.size,pos,-1): # pos 이후의 모든 항목을 뒤로 한 칸씩 이동\n",
    "                self.array[i] = self.array[i-1]\n",
    "            self.array[pos] = e # pos 위치에 e(새로운 항목)를 삽입\n",
    "            self.size += 1 # 항목을 추가시켰으니 size +1\n",
    "        else: pass\n",
    "    \n",
    "    def delete(self, pos):\n",
    "        if not self.isEmpty() and 0<=pos<=self.size:\n",
    "            e = self.array[pos] # 삭제할 항목을 복사\n",
    "            for i in range(pos, self.size-1):\n",
    "                self.array[i] = self.array[i+1] # pos 이후의 항목들을 앞으로 한 칸씩 이동\n",
    "            self.size -= 1 # 항목을 삭제했으니 size -1\n",
    "            return e # 복사해둔 항목 반환\n",
    "        else: pass\n",
    "        \n",
    "    def replace(self, pos, e):\n",
    "        if not self.isEmpty() and 0<=pos<=self.size:\n",
    "            self.array[pos] = e # pos 위치에 새로운 e 항목을 대체 \n",
    "        else: pass\n",
    "        \n",
    "    def count(self, e):\n",
    "        cnt = 0\n",
    "        for i in range(0, self.size):\n",
    "            if self.array[i] == e:\n",
    "                cnt+=1\n",
    "        return cnt\n",
    "                \n",
    "    def __str__(self):\n",
    "        return str(self.array[0:self.size])  # string으로 Array 출력\n",
    "    \n",
    "    def findMax(self):\n",
    "        max = self.array[0]\n",
    "        for i in range(0, self.size):\n",
    "            if max < self.array[i]:\n",
    "                max = self.array[i]\n",
    "            elif self.isEmpty():\n",
    "                return -1\n",
    "        return max\n",
    "    \n",
    "A = ArrayList(50)\n",
    "A.insert(0, 13)\n",
    "A.insert(1, 242)\n",
    "A.insert(2, 422)\n",
    "A.insert(3, 1)\n",
    "A.insert(4, 245)\n",
    "print(A)\n",
    "print(A.findMax())"
   ]
  }
 ],
 "metadata": {
  "kernelspec": {
   "display_name": "base",
   "language": "python",
   "name": "python3"
  },
  "language_info": {
   "codemirror_mode": {
    "name": "ipython",
    "version": 3
   },
   "file_extension": ".py",
   "mimetype": "text/x-python",
   "name": "python",
   "nbconvert_exporter": "python",
   "pygments_lexer": "ipython3",
   "version": "3.11.3"
  },
  "orig_nbformat": 4
 },
 "nbformat": 4,
 "nbformat_minor": 2
}
