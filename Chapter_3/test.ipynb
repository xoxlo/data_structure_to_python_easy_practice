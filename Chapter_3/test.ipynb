{
 "cells": [
  {
   "cell_type": "code",
   "execution_count": 23,
   "metadata": {},
   "outputs": [],
   "source": [
    "class ArraySet:\n",
    "    def __init__(self,capacity=100):\n",
    "        self.capacity = capacity\n",
    "        self.array = [None]*capacity\n",
    "        self.size = 0\n",
    "        \n",
    "    def isEmpty(self):\n",
    "        return self.size == 0\n",
    "    \n",
    "    def isFull(self):\n",
    "        return self.size == self.capacity\n",
    "    \n",
    "    def __str__(self):\n",
    "        return str(self.array[0:self.size])\n",
    "        \n",
    "    def contains(self, e): # 선택한 집합에 원소 e가 포함되어있는지 판단\n",
    "        for i in range(self.size):\n",
    "            for i in range(self.size):\n",
    "                if self.array[i] == e:\n",
    "                    return True # 원소 e가 있으면 True 반환\n",
    "            return False # 원소 e가 없으면 False 반환\n",
    "\n",
    "    def insert(self, e): # 선택한 집합에 원소 e를 삽입\n",
    "        if not self.contains(e) and not self.isFull(): # 집한 안에 똑같은 원소 e가 없어야 하고 포화상태가 아니어야함.\n",
    "            self.array[self.size] = e # 원소 e 삽입\n",
    "            self.size += 1 # 원소 e를 삽입했으니 배열 size +1\n",
    "            \n",
    "    def delete(self, e): # 선택한 집합에 원소 e를 삭제\n",
    "        for i in range(self.size): # 배열 전체 범위를 반복\n",
    "            if self.array[i] == e: # 원소 e와 같은 값이 i 위치에 있다면\n",
    "                self.array[i] = self.array[self.size-1] # 맨 뒤 원소를 삭제할 위치에 복사하고\n",
    "                self.size -= 1\n",
    "                return\n",
    "            \n",
    "    def union(self,setB):\n",
    "        setC = ArraySet()\n",
    "        for i in range(self.size):\n",
    "            setC.insert(self.array[i])\n",
    "        for i in range(setB.size):\n",
    "            if not setC.contains(setB.array[i]):\n",
    "                setC.insert(setB.array[i])\n",
    "        return setC\n",
    "    \n",
    "    def intersect(self, setB):\n",
    "        setC = ArraySet()\n",
    "        for i in range(self.size):\n",
    "            if setB.contains(self.array[i]):\n",
    "                setC.inset(self.array[i])\n",
    "        return setC\n",
    "    \n",
    "    def difference(self, setB):\n",
    "        setC = ArraySet()\n",
    "        for i in range(self.size):\n",
    "            if not setB.contains(self.array[i]):\n",
    "                setC.insert(self.array[i])\n",
    "        return setC"
   ]
  },
  {
   "cell_type": "code",
   "execution_count": 24,
   "metadata": {},
   "outputs": [
    {
     "name": "stdout",
     "output_type": "stream",
     "text": [
      "['휴대폰', '시계', '손수건']\n"
     ]
    }
   ],
   "source": [
    "SetA = ArraySet()\n",
    "SetA.insert('휴대폰')\n",
    "SetA.insert('지갑')\n",
    "SetA.insert('손수건')\n",
    "SetA.insert('시계')\n",
    "SetA.delete('지갑')\n",
    "print(SetA)"
   ]
  },
  {
   "cell_type": "code",
   "execution_count": 2,
   "metadata": {},
   "outputs": [
    {
     "data": {
      "text/plain": [
       "[1, 2, 3, 4, 5]"
      ]
     },
     "execution_count": 2,
     "metadata": {},
     "output_type": "execute_result"
    }
   ],
   "source": [
    "import os, sys\n",
    "\n",
    "A = [1, 2, 3, 4, 5]\n",
    "B = list(A)\n",
    "B = copy(A)\n",
    "B"
   ]
  }
 ],
 "metadata": {
  "kernelspec": {
   "display_name": "base",
   "language": "python",
   "name": "python3"
  },
  "language_info": {
   "codemirror_mode": {
    "name": "ipython",
    "version": 3
   },
   "file_extension": ".py",
   "mimetype": "text/x-python",
   "name": "python",
   "nbconvert_exporter": "python",
   "pygments_lexer": "ipython3",
   "version": "3.11.3"
  },
  "orig_nbformat": 4
 },
 "nbformat": 4,
 "nbformat_minor": 2
}
