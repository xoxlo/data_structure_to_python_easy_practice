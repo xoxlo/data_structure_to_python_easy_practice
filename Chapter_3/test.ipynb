{
 "cells": [
  {
   "cell_type": "code",
   "execution_count": 1,
   "metadata": {},
   "outputs": [
    {
     "ename": "",
     "evalue": "",
     "output_type": "error",
     "traceback": [
      "\u001b[1;31m코드를 실행할 수 없습니다. 세션이 삭제되었습니다. 커널을 다시 시작해 보세요."
     ]
    },
    {
     "ename": "",
     "evalue": "",
     "output_type": "error",
     "traceback": [
      "\u001b[1;31m현재 셀 또는 이전 셀에서 코드를 실행하는 동안 Kernel이 충돌했습니다. 셀의 코드를 검토하여 오류의 가능한 원인을 식별하세요. 자세한 내용을 보려면 <a href='https://aka.ms/vscodeJupyterKernelCrash'> 여기 </a> 를 클릭하세요. 자세한 내용은 Jupyter <a href='command:jupyter.viewOutput'>로그</a>를 참조하세요."
     ]
    }
   ],
   "source": [
    "from training_3_03 import *\n",
    "# 배열구조의 리스트를 이용한 라인 편집기 프로그램\n",
    "\n",
    "list = ArrayList()\n",
    "while True:\n",
    "    command = input(\"[메뉴선택] i-입력, d-삭제, r-변경, p-출력, l-파일읽기, s-저장, q-종료 => \")\n",
    "\n",
    "    if command == 'i':\n",
    "        pos = int(input(\" 입력행 번호 : \"))\n",
    "        str = input(\" 입력행 내용 : \")\n",
    "        list.insert(pos,str)\n",
    "        \n",
    "    elif command == 'd':\n",
    "        pos = int(input(\" 삭제행 번호 : \"))\n",
    "        list.delete(pos)\n",
    "    \n",
    "    elif command == 'r':\n",
    "        pos = int(input(\" 변경행 번호 : \"))\n",
    "        str = input(\" 변경행 내용 : \")\n",
    "        list.replace(pos, str)\n",
    "        \n",
    "    elif command == 'p':\n",
    "        print('Line Editor')\n",
    "        for line in range(list.size):\n",
    "            print('[%2d] '%line, end='')\n",
    "            print(list.getEntry(line))\n",
    "        print()\n",
    "        \n",
    "    elif command == 'q': exit()\n",
    "    \n",
    "    elif command == 'l':\n",
    "        filename = 'test.txt'\n",
    "        infile = open(filename, \"r\")\n",
    "        lines = infile.readlines()\n",
    "        for line in lines:\n",
    "            list.insert(list.size, line.rstrip('\\n'))\n",
    "        infile.close()\n",
    "    \n",
    "    elif command == 's':\n",
    "        filename = 'test.txt'\n",
    "        outfile = open(filename, \"w\")\n",
    "        len = list.size\n",
    "        for i in range(len):\n",
    "            outfile.write(list.getEntry(i)+'\\n')\n",
    "        outfile.close()"
   ]
  }
 ],
 "metadata": {
  "kernelspec": {
   "display_name": "base",
   "language": "python",
   "name": "python3"
  },
  "language_info": {
   "codemirror_mode": {
    "name": "ipython",
    "version": 3
   },
   "file_extension": ".py",
   "mimetype": "text/x-python",
   "name": "python",
   "nbconvert_exporter": "python",
   "pygments_lexer": "ipython3",
   "version": "3.11.3"
  },
  "orig_nbformat": 4
 },
 "nbformat": 4,
 "nbformat_minor": 2
}
